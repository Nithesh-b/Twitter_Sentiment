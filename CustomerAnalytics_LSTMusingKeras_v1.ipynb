{
  "nbformat": 4,
  "nbformat_minor": 0,
  "metadata": {
    "kernelspec": {
      "display_name": "Python 3",
      "language": "python",
      "name": "python3"
    },
    "language_info": {
      "codemirror_mode": {
        "name": "ipython",
        "version": 3
      },
      "file_extension": ".py",
      "mimetype": "text/x-python",
      "name": "python",
      "nbconvert_exporter": "python",
      "pygments_lexer": "ipython3",
      "version": "3.7.0"
    },
    "colab": {
      "name": "CustomerAnalytics_LSTMusingKeras_v1.ipynb",
      "provenance": [],
      "collapsed_sections": [],
      "include_colab_link": true
    }
  },
  "cells": [
    {
      "cell_type": "markdown",
      "metadata": {
        "id": "view-in-github",
        "colab_type": "text"
      },
      "source": [
        "<a href=\"https://colab.research.google.com/github/Nithesh-b/Twitter_Sentiment/blob/post-viva/CustomerAnalytics_LSTMusingKeras_v1.ipynb\" target=\"_parent\"><img src=\"https://colab.research.google.com/assets/colab-badge.svg\" alt=\"Open In Colab\"/></a>"
      ]
    },
    {
      "cell_type": "markdown",
      "metadata": {
        "id": "19YUopb5hlyj"
      },
      "source": [
        "\n",
        "\n",
        "###  Binary Classification\n",
        "## Use Keras for vectorization of clean tweet and apply LSTM\n",
        "\n",
        "#### 1. we will focus on following 3 columns\n",
        "   ###### a) Tweet id  ,  \n",
        "   ###### b) Clean-tweet\n",
        "   ###### c) class ( derived from Text blob)\n",
        "   \n",
        "\n",
        "### Script flow \n",
        "##### Step-1\n",
        "###### ***Read the data from folder  ( Tweet id , Clean-tweet and  class ( derived from Text blob)\n",
        "###### ***Split the data Train and Test \n",
        "###### ***write Train and Test data in to separete csv files \n",
        "\n",
        "##### Step-2\n",
        "###### ***Read train and test csv file\n",
        "###### ***Clean tweet text of  both test and train file using keras.tokenizer\n",
        "###### ***Build the LSTM model on train and apply it on test \n",
        "\n",
        "\n"
      ]
    },
    {
      "cell_type": "code",
      "metadata": {
        "id": "EUT_FvMRhlyk"
      },
      "source": [
        "\n",
        "\n",
        "import numpy as np \n",
        "import pandas as pd \n",
        "\n",
        "#import re\n",
        "#from termcolor import colored\n",
        "#import nltk \n",
        "#import matplotlib.pyplot as plt\n",
        "#%matplotlib inline\n",
        "# Data read - All Required data  are in datafolder\n",
        "\n",
        "\n",
        "dataFolder = \"/content/sample_data/outputs\"\n"
      ],
      "execution_count": 28,
      "outputs": []
    },
    {
      "cell_type": "code",
      "metadata": {
        "id": "8J46PY9Nhlyq"
      },
      "source": [
        "tweet_df = pd.read_csv(dataFolder+\"/Final_PreProcessing_Group33_Cleaned_Tweets.csv\")"
      ],
      "execution_count": 29,
      "outputs": []
    },
    {
      "cell_type": "code",
      "metadata": {
        "id": "mscdRCj2hlyu",
        "outputId": "f3dd2d43-20e7-4934-9df9-37bcbafa5908",
        "colab": {
          "base_uri": "https://localhost:8080/",
          "height": 204
        }
      },
      "source": [
        "tweet_df.head(5)"
      ],
      "execution_count": 30,
      "outputs": [
        {
          "output_type": "execute_result",
          "data": {
            "text/html": [
              "<div>\n",
              "<style scoped>\n",
              "    .dataframe tbody tr th:only-of-type {\n",
              "        vertical-align: middle;\n",
              "    }\n",
              "\n",
              "    .dataframe tbody tr th {\n",
              "        vertical-align: top;\n",
              "    }\n",
              "\n",
              "    .dataframe thead th {\n",
              "        text-align: right;\n",
              "    }\n",
              "</style>\n",
              "<table border=\"1\" class=\"dataframe\">\n",
              "  <thead>\n",
              "    <tr style=\"text-align: right;\">\n",
              "      <th></th>\n",
              "      <th>tweet_id</th>\n",
              "      <th>Tweet</th>\n",
              "      <th>class</th>\n",
              "    </tr>\n",
              "  </thead>\n",
              "  <tbody>\n",
              "    <tr>\n",
              "      <th>0</th>\n",
              "      <td>neu-GG-Tweet-11942</td>\n",
              "      <td>ahh repli random follow do not how sad haha</td>\n",
              "      <td>1</td>\n",
              "    </tr>\n",
              "    <tr>\n",
              "      <th>1</th>\n",
              "      <td>neu-GG-Tweet-11941</td>\n",
              "      <td>awwww did not get hero</td>\n",
              "      <td>0</td>\n",
              "    </tr>\n",
              "    <tr>\n",
              "      <th>2</th>\n",
              "      <td>neu-GG-Tweet-11940</td>\n",
              "      <td>oh realli what bummer</td>\n",
              "      <td>1</td>\n",
              "    </tr>\n",
              "    <tr>\n",
              "      <th>3</th>\n",
              "      <td>neu-GG-Tweet-11937</td>\n",
              "      <td>wtf whyd flag oop shitti mous click star</td>\n",
              "      <td>1</td>\n",
              "    </tr>\n",
              "    <tr>\n",
              "      <th>4</th>\n",
              "      <td>neu-GG-Tweet-11930</td>\n",
              "      <td>stick intel drive one given decent review anan...</td>\n",
              "      <td>1</td>\n",
              "    </tr>\n",
              "  </tbody>\n",
              "</table>\n",
              "</div>"
            ],
            "text/plain": [
              "             tweet_id                                              Tweet  class\n",
              "0  neu-GG-Tweet-11942        ahh repli random follow do not how sad haha      1\n",
              "1  neu-GG-Tweet-11941                             awwww did not get hero      0\n",
              "2  neu-GG-Tweet-11940                              oh realli what bummer      1\n",
              "3  neu-GG-Tweet-11937           wtf whyd flag oop shitti mous click star      1\n",
              "4  neu-GG-Tweet-11930  stick intel drive one given decent review anan...      1"
            ]
          },
          "metadata": {
            "tags": []
          },
          "execution_count": 30
        }
      ]
    },
    {
      "cell_type": "code",
      "metadata": {
        "id": "z-11ZBVMhly0",
        "outputId": "ceea44fc-07b9-449d-843e-004232eb3724",
        "colab": {
          "base_uri": "https://localhost:8080/"
        }
      },
      "source": [
        "print(tweet_df['class'].value_counts())"
      ],
      "execution_count": 31,
      "outputs": [
        {
          "output_type": "stream",
          "text": [
            "1    2801\n",
            "0    2623\n",
            "Name: class, dtype: int64\n"
          ],
          "name": "stdout"
        }
      ]
    },
    {
      "cell_type": "code",
      "metadata": {
        "id": "kCiaXfk3hly3"
      },
      "source": [
        "# Train test split ( Tweet-id , Clean_tweet , class)\n",
        "\n",
        "from sklearn.model_selection import train_test_split\n",
        "\n",
        "\n",
        "X_train, X_test, y_train, y_test , tweet_id_train , tweet_id_test = train_test_split(tweet_df['Tweet'], tweet_df['class'], tweet_df['tweet_id'],test_size = 0.20, random_state = 100 , stratify = tweet_df['class'])\n",
        "\n",
        "\n",
        "    "
      ],
      "execution_count": 32,
      "outputs": []
    },
    {
      "cell_type": "markdown",
      "metadata": {
        "id": "07G7Her6hly7"
      },
      "source": [
        "\n",
        "## Store Train and Test data to csv file - so that we can use those in different ML model"
      ]
    },
    {
      "cell_type": "code",
      "metadata": {
        "id": "G8CF0fomhly8",
        "outputId": "f612512f-8cd2-4ca9-c30a-24324793e6e1",
        "colab": {
          "base_uri": "https://localhost:8080/"
        }
      },
      "source": [
        "# Create Train Data frame\n",
        "train_dataset = pd.DataFrame({\n",
        "    'tweet_id' : tweet_id_train ,\n",
        "    'Tweet'    : X_train,\n",
        "    'class'    : y_train\n",
        "    })\n",
        "\n",
        "print(train_dataset['class'].value_counts())\n",
        "\n"
      ],
      "execution_count": 33,
      "outputs": [
        {
          "output_type": "stream",
          "text": [
            "1    2241\n",
            "0    2098\n",
            "Name: class, dtype: int64\n"
          ],
          "name": "stdout"
        }
      ]
    },
    {
      "cell_type": "code",
      "metadata": {
        "id": "IyG-f5gyhly_",
        "outputId": "d43c93ab-8b1c-40f5-8d9e-04dedb1ca344",
        "colab": {
          "base_uri": "https://localhost:8080/"
        }
      },
      "source": [
        "# Create Train Test frame\n",
        "test_dataset = pd.DataFrame({\n",
        "    'tweet_id' : tweet_id_test ,\n",
        "    'Tweet'    : X_test,\n",
        "    'class': y_test\n",
        "    })\n",
        "\n",
        "\n",
        "print(test_dataset['class'].value_counts())\n",
        "\n",
        "\n",
        "\n"
      ],
      "execution_count": 34,
      "outputs": [
        {
          "output_type": "stream",
          "text": [
            "1    560\n",
            "0    525\n",
            "Name: class, dtype: int64\n"
          ],
          "name": "stdout"
        }
      ]
    },
    {
      "cell_type": "code",
      "metadata": {
        "id": "dvYrqyPHhlzD"
      },
      "source": [
        "# Save Train Data\n",
        "train_dataset.to_csv(dataFolder+\"/LSTM_train_Data.csv\", index = False)\n",
        "\n",
        "\n",
        "# Save test data\n",
        "\n",
        "test_dataset.to_csv(dataFolder+\"/LSTM_test_Data.csv\", index = False)\n"
      ],
      "execution_count": 35,
      "outputs": []
    },
    {
      "cell_type": "code",
      "metadata": {
        "id": "4scZNfbLhlzG"
      },
      "source": [
        ""
      ],
      "execution_count": 35,
      "outputs": []
    },
    {
      "cell_type": "markdown",
      "metadata": {
        "id": "LXTCNhyKhlzJ"
      },
      "source": [
        "### Keras Library "
      ]
    },
    {
      "cell_type": "code",
      "metadata": {
        "id": "5NDgT8OxhlzK"
      },
      "source": [
        "# Import Tensorflow\n",
        "import os\n",
        "import tensorflow\n",
        "os.environ['KERAS_BACKEND'] = 'tensorflow'\n",
        "\n",
        "import keras\n",
        "from keras.models import Sequential\n",
        "from keras.layers import Dense, Embedding, LSTM, SpatialDropout1D"
      ],
      "execution_count": 36,
      "outputs": []
    },
    {
      "cell_type": "code",
      "metadata": {
        "id": "8O2lNr_ohlzN"
      },
      "source": [
        ""
      ],
      "execution_count": 36,
      "outputs": []
    },
    {
      "cell_type": "markdown",
      "metadata": {
        "id": "6RaN9fD9hlzQ"
      },
      "source": [
        "## Keras Tokenizer\n",
        "###### ## There are many different methods to do this conversion like count vectorizer, TF-IDF vectorizer, and also Keras have tokenizers that serve the same purpose."
      ]
    },
    {
      "cell_type": "code",
      "metadata": {
        "id": "JVjnAeYhhlzR"
      },
      "source": [
        "\n",
        "from keras.preprocessing.text import Tokenizer\n",
        "from keras.preprocessing.sequence import pad_sequences\n",
        "\n",
        "import pandas as pd\n"
      ],
      "execution_count": 37,
      "outputs": []
    },
    {
      "cell_type": "code",
      "metadata": {
        "id": "j31gOKuthlzV"
      },
      "source": [
        "dataFolder = \"/content/sample_data/outputs\"\n",
        "# Load data\n",
        "\n",
        "train_data = pd.read_csv(dataFolder+\"/LSTM_train_Data.csv\")\n",
        "\n",
        "test_data = pd.read_csv(dataFolder+\"/LSTM_test_Data.csv\")\n"
      ],
      "execution_count": 38,
      "outputs": []
    },
    {
      "cell_type": "code",
      "metadata": {
        "id": "PIBVVw-JhlzY",
        "outputId": "12024c1b-6c13-4341-e459-c7b2c893d943",
        "colab": {
          "base_uri": "https://localhost:8080/"
        }
      },
      "source": [
        "train_data.columns"
      ],
      "execution_count": 39,
      "outputs": [
        {
          "output_type": "execute_result",
          "data": {
            "text/plain": [
              "Index(['tweet_id', 'Tweet', 'class'], dtype='object')"
            ]
          },
          "metadata": {
            "tags": []
          },
          "execution_count": 39
        }
      ]
    },
    {
      "cell_type": "code",
      "metadata": {
        "id": "cfjlk8N8hlzb"
      },
      "source": [
        "# Tokenization\n",
        "\n",
        "tokenizer = Tokenizer(num_words = 2500, split = ' ')\n",
        "\n",
        "# Updates internal vocabulary based on a list of texts. This method creates the vocabu\n",
        "tokenizer.fit_on_texts(train_data['Tweet'].astype(str).values)\n",
        "\n",
        "'''\n",
        "https://stackoverflow.com/questions/51956000/what-does-keras-tokenizer-method-exactly-do\n",
        "\n",
        "texts_to_sequences Transforms each text in texts to a sequence of integers. \n",
        "So it basically takes each word in the text and replaces it with its corresponding \n",
        "integer value from the word_index dictionary.\n",
        "'''\n",
        "\n",
        "train_tweets = tokenizer.texts_to_sequences(train_data['Tweet'].astype(str).values)\n",
        "\n",
        "\n",
        "\n",
        "max_len = max([len(i) for i in train_tweets])\n",
        "# #padding the tweet to have exactly the same shape as `embedding_2` input\n",
        "# https://www.kaggle.com/shivam001/twitter-tweets-classification-rnn-keras\n",
        "\n",
        "train_tweets = pad_sequences(train_tweets, maxlen = max_len)\n",
        "test_tweets = tokenizer.texts_to_sequences(test_data['Tweet'].astype(str).values)\n",
        "test_tweets = pad_sequences(test_tweets, maxlen = max_len)\n"
      ],
      "execution_count": 40,
      "outputs": []
    },
    {
      "cell_type": "code",
      "metadata": {
        "id": "KtEkaofzhlze",
        "outputId": "852ea9ab-03d2-4428-de39-b091e4cad379",
        "colab": {
          "base_uri": "https://localhost:8080/"
        }
      },
      "source": [
        "train_tweets"
      ],
      "execution_count": 41,
      "outputs": [
        {
          "output_type": "execute_result",
          "data": {
            "text/plain": [
              "array([[   0,    0,    0, ...,  354,  289,  859],\n",
              "       [   0,    0,    0, ...,    3,   34,  686],\n",
              "       [   0,    0,    0, ...,    3,    8, 1368],\n",
              "       ...,\n",
              "       [   0,    0,    0, ...,  124,   31,   99],\n",
              "       [   0,    0,    0, ...,   32,   10,  154],\n",
              "       [   0,    0,    0, ...,   36,  226, 1754]], dtype=int32)"
            ]
          },
          "metadata": {
            "tags": []
          },
          "execution_count": 41
        }
      ]
    },
    {
      "cell_type": "code",
      "metadata": {
        "id": "cXgKI8BDhlzh",
        "outputId": "af7ef09a-ba31-40a5-812d-a22f2e1302be",
        "colab": {
          "base_uri": "https://localhost:8080/"
        }
      },
      "source": [
        "# Building the model\n",
        "\n",
        "model = Sequential()\n",
        "model.add(Embedding(2500, 128, input_length = train_tweets.shape[1]))\n",
        "model.add(SpatialDropout1D(0.4))\n",
        "model.add(LSTM(256, dropout = 0.2))\n",
        "model.add(Dense(2, activation = 'softmax'))\n",
        "model.compile(loss = 'categorical_crossentropy', optimizer = 'adam', metrics = ['accuracy'])\n",
        "model.summary()"
      ],
      "execution_count": 42,
      "outputs": [
        {
          "output_type": "stream",
          "text": [
            "Model: \"sequential_1\"\n",
            "_________________________________________________________________\n",
            "Layer (type)                 Output Shape              Param #   \n",
            "=================================================================\n",
            "embedding_1 (Embedding)      (None, 23, 128)           320000    \n",
            "_________________________________________________________________\n",
            "spatial_dropout1d_1 (Spatial (None, 23, 128)           0         \n",
            "_________________________________________________________________\n",
            "lstm_1 (LSTM)                (None, 256)               394240    \n",
            "_________________________________________________________________\n",
            "dense_1 (Dense)              (None, 2)                 514       \n",
            "=================================================================\n",
            "Total params: 714,754\n",
            "Trainable params: 714,754\n",
            "Non-trainable params: 0\n",
            "_________________________________________________________________\n"
          ],
          "name": "stdout"
        }
      ]
    },
    {
      "cell_type": "code",
      "metadata": {
        "id": "U0u6QoJzhlzk",
        "outputId": "987ad7a4-e2b4-4f34-b9ed-7541bc0f165c",
        "colab": {
          "base_uri": "https://localhost:8080/"
        }
      },
      "source": [
        "# Training the model\n",
        "\n",
        "history = model.fit(train_tweets, pd.get_dummies(train_data['class']).values, epochs = 10, batch_size = 128, validation_split = 0.2)\n"
      ],
      "execution_count": 43,
      "outputs": [
        {
          "output_type": "stream",
          "text": [
            "Epoch 1/10\n",
            "28/28 [==============================] - 7s 240ms/step - loss: 0.6642 - accuracy: 0.5895 - val_loss: 0.5570 - val_accuracy: 0.8329\n",
            "Epoch 2/10\n",
            "28/28 [==============================] - 6s 223ms/step - loss: 0.4478 - accuracy: 0.8280 - val_loss: 0.3904 - val_accuracy: 0.8329\n",
            "Epoch 3/10\n",
            "28/28 [==============================] - 6s 227ms/step - loss: 0.2490 - accuracy: 0.9049 - val_loss: 0.2443 - val_accuracy: 0.9113\n",
            "Epoch 4/10\n",
            "28/28 [==============================] - 6s 227ms/step - loss: 0.1330 - accuracy: 0.9533 - val_loss: 0.2195 - val_accuracy: 0.9194\n",
            "Epoch 5/10\n",
            "28/28 [==============================] - 6s 229ms/step - loss: 0.0852 - accuracy: 0.9761 - val_loss: 0.2393 - val_accuracy: 0.9182\n",
            "Epoch 6/10\n",
            "28/28 [==============================] - 6s 231ms/step - loss: 0.0656 - accuracy: 0.9775 - val_loss: 0.2657 - val_accuracy: 0.9171\n",
            "Epoch 7/10\n",
            "28/28 [==============================] - 6s 230ms/step - loss: 0.0547 - accuracy: 0.9810 - val_loss: 0.2724 - val_accuracy: 0.9263\n",
            "Epoch 8/10\n",
            "28/28 [==============================] - 6s 229ms/step - loss: 0.0516 - accuracy: 0.9818 - val_loss: 0.2752 - val_accuracy: 0.9171\n",
            "Epoch 9/10\n",
            "28/28 [==============================] - 6s 232ms/step - loss: 0.0354 - accuracy: 0.9899 - val_loss: 0.2759 - val_accuracy: 0.9182\n",
            "Epoch 10/10\n",
            "28/28 [==============================] - 6s 230ms/step - loss: 0.0281 - accuracy: 0.9905 - val_loss: 0.3384 - val_accuracy: 0.9136\n"
          ],
          "name": "stdout"
        }
      ]
    },
    {
      "cell_type": "code",
      "metadata": {
        "id": "6bXO7Drjhlzm",
        "outputId": "34b8483a-b98d-4c3b-e675-7468c304efde",
        "colab": {
          "base_uri": "https://localhost:8080/"
        }
      },
      "source": [
        "# Testing the model\n",
        "# Read about \"pd.get_dummies\"\n",
        "\n",
        "score, accuracy = model.evaluate(test_tweets, pd.get_dummies(test_data['class']).values, batch_size = 128)\n",
        "print(\"Test accuracy: {}\".format(accuracy))"
      ],
      "execution_count": 44,
      "outputs": [
        {
          "output_type": "stream",
          "text": [
            "9/9 [==============================] - 0s 53ms/step - loss: 0.4318 - accuracy: 0.8903\n",
            "Test accuracy: 0.8903225660324097\n"
          ],
          "name": "stdout"
        }
      ]
    },
    {
      "cell_type": "markdown",
      "metadata": {
        "id": "L8ukFucihlzp"
      },
      "source": [
        "# End of LSTM"
      ]
    }
  ]
}