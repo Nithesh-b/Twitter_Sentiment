{
  "nbformat": 4,
  "nbformat_minor": 0,
  "metadata": {
    "kernelspec": {
      "display_name": "Python 3",
      "language": "python",
      "name": "python3"
    },
    "language_info": {
      "codemirror_mode": {
        "name": "ipython",
        "version": 3
      },
      "file_extension": ".py",
      "mimetype": "text/x-python",
      "name": "python",
      "nbconvert_exporter": "python",
      "pygments_lexer": "ipython3",
      "version": "3.7.0"
    },
    "colab": {
      "name": "CustomerAnalytics_LSTMusingKeras_v1.ipynb",
      "provenance": [],
      "collapsed_sections": [],
      "toc_visible": true,
      "include_colab_link": true
    }
  },
  "cells": [
    {
      "cell_type": "markdown",
      "metadata": {
        "id": "view-in-github",
        "colab_type": "text"
      },
      "source": [
        "<a href=\"https://colab.research.google.com/github/Nithesh-b/Twitter_Sentiment/blob/post-viva/CustomerAnalytics_LSTMusingKeras_v1.ipynb\" target=\"_parent\"><img src=\"https://colab.research.google.com/assets/colab-badge.svg\" alt=\"Open In Colab\"/></a>"
      ]
    },
    {
      "cell_type": "markdown",
      "metadata": {
        "id": "19YUopb5hlyj"
      },
      "source": [
        "\n",
        "\n",
        "###  Binary Classification\n",
        "## Keras for vectorization of clean tweet and apply LSTM\n",
        "\n",
        "#### 1. we will focus on following 3 columns\n",
        "   ###### a) Tweet id  ,  \n",
        "   ###### b) Clean-tweet\n",
        "   ###### c) class ( derived from Text blob)\n",
        "   \n",
        "\n",
        "### Script flow \n",
        "##### Step-1\n",
        "###### Read the data from folder  ( Tweet id , Clean-tweet and  class ( derived from Text blob)\n",
        "###### Split the data Train and Test \n",
        "###### Write Train and Test data in to separete csv files \n",
        "\n",
        "##### Step-2\n",
        "###### Read train and test csv file\n",
        "###### Clean tweet text of  both test and train file using keras.tokenizer\n",
        "###### Build the LSTM model on train and apply it on test \n",
        "\n",
        "\n"
      ]
    },
    {
      "cell_type": "code",
      "metadata": {
        "id": "EUT_FvMRhlyk"
      },
      "source": [
        "import numpy as np \n",
        "import pandas as pd \n",
        "dataFolder = \"/content/sample_data/outputs\"\n"
      ],
      "execution_count": 1,
      "outputs": []
    },
    {
      "cell_type": "code",
      "metadata": {
        "id": "8J46PY9Nhlyq"
      },
      "source": [
        "tweet_df = pd.read_csv(dataFolder+\"/Final_PreProcessing_Group33_Cleaned_Tweets.csv\")"
      ],
      "execution_count": 2,
      "outputs": []
    },
    {
      "cell_type": "code",
      "metadata": {
        "id": "mscdRCj2hlyu",
        "outputId": "97b542bc-3e93-48a2-c552-0df86b667d44",
        "colab": {
          "base_uri": "https://localhost:8080/",
          "height": 204
        }
      },
      "source": [
        "tweet_df.head(5)"
      ],
      "execution_count": 3,
      "outputs": [
        {
          "output_type": "execute_result",
          "data": {
            "text/html": [
              "<div>\n",
              "<style scoped>\n",
              "    .dataframe tbody tr th:only-of-type {\n",
              "        vertical-align: middle;\n",
              "    }\n",
              "\n",
              "    .dataframe tbody tr th {\n",
              "        vertical-align: top;\n",
              "    }\n",
              "\n",
              "    .dataframe thead th {\n",
              "        text-align: right;\n",
              "    }\n",
              "</style>\n",
              "<table border=\"1\" class=\"dataframe\">\n",
              "  <thead>\n",
              "    <tr style=\"text-align: right;\">\n",
              "      <th></th>\n",
              "      <th>tweet_id</th>\n",
              "      <th>Tweet</th>\n",
              "      <th>class</th>\n",
              "    </tr>\n",
              "  </thead>\n",
              "  <tbody>\n",
              "    <tr>\n",
              "      <th>0</th>\n",
              "      <td>neu-GG-Tweet-11942</td>\n",
              "      <td>ahh repli random follow do not how sad haha</td>\n",
              "      <td>1</td>\n",
              "    </tr>\n",
              "    <tr>\n",
              "      <th>1</th>\n",
              "      <td>neu-GG-Tweet-11941</td>\n",
              "      <td>awwww did not get hero</td>\n",
              "      <td>0</td>\n",
              "    </tr>\n",
              "    <tr>\n",
              "      <th>2</th>\n",
              "      <td>neu-GG-Tweet-11940</td>\n",
              "      <td>oh realli what bummer</td>\n",
              "      <td>1</td>\n",
              "    </tr>\n",
              "    <tr>\n",
              "      <th>3</th>\n",
              "      <td>neu-GG-Tweet-11937</td>\n",
              "      <td>wtf whyd flag oop shitti mous click star</td>\n",
              "      <td>1</td>\n",
              "    </tr>\n",
              "    <tr>\n",
              "      <th>4</th>\n",
              "      <td>neu-GG-Tweet-11930</td>\n",
              "      <td>stick intel drive one given decent review anan...</td>\n",
              "      <td>1</td>\n",
              "    </tr>\n",
              "  </tbody>\n",
              "</table>\n",
              "</div>"
            ],
            "text/plain": [
              "             tweet_id                                              Tweet  class\n",
              "0  neu-GG-Tweet-11942        ahh repli random follow do not how sad haha      1\n",
              "1  neu-GG-Tweet-11941                             awwww did not get hero      0\n",
              "2  neu-GG-Tweet-11940                              oh realli what bummer      1\n",
              "3  neu-GG-Tweet-11937           wtf whyd flag oop shitti mous click star      1\n",
              "4  neu-GG-Tweet-11930  stick intel drive one given decent review anan...      1"
            ]
          },
          "metadata": {
            "tags": []
          },
          "execution_count": 3
        }
      ]
    },
    {
      "cell_type": "code",
      "metadata": {
        "id": "z-11ZBVMhly0",
        "outputId": "9292571e-2251-4689-c58f-0e5e39fefe8b",
        "colab": {
          "base_uri": "https://localhost:8080/"
        }
      },
      "source": [
        "print(tweet_df['class'].value_counts())"
      ],
      "execution_count": 4,
      "outputs": [
        {
          "output_type": "stream",
          "text": [
            "1    2801\n",
            "0    2623\n",
            "Name: class, dtype: int64\n"
          ],
          "name": "stdout"
        }
      ]
    },
    {
      "cell_type": "markdown",
      "metadata": {
        "id": "Cf4KIbFg0eh8"
      },
      "source": [
        "##Train test split ( Tweet-id , Clean_tweet , class)"
      ]
    },
    {
      "cell_type": "code",
      "metadata": {
        "id": "kCiaXfk3hly3"
      },
      "source": [
        "from sklearn.model_selection import train_test_split\n",
        "X_train, X_test, y_train, y_test , tweet_id_train , tweet_id_test = train_test_split(tweet_df['Tweet'], tweet_df['class'], tweet_df['tweet_id'],test_size = 0.20, random_state = 100 , stratify = tweet_df['class'])    "
      ],
      "execution_count": 5,
      "outputs": []
    },
    {
      "cell_type": "markdown",
      "metadata": {
        "id": "07G7Her6hly7"
      },
      "source": [
        "\n",
        "## Store Train and Test data to csv file - so that we can use those in different ML model"
      ]
    },
    {
      "cell_type": "code",
      "metadata": {
        "id": "G8CF0fomhly8",
        "outputId": "98a3a1d5-4df3-4943-cf81-6e137081925a",
        "colab": {
          "base_uri": "https://localhost:8080/"
        }
      },
      "source": [
        "# Create Train Data frame\n",
        "train_dataset = pd.DataFrame({\n",
        "    'tweet_id' : tweet_id_train ,\n",
        "    'Tweet'    : X_train,\n",
        "    'class'    : y_train\n",
        "    })\n",
        "\n",
        "print(train_dataset['class'].value_counts())\n",
        "\n"
      ],
      "execution_count": 6,
      "outputs": [
        {
          "output_type": "stream",
          "text": [
            "1    2241\n",
            "0    2098\n",
            "Name: class, dtype: int64\n"
          ],
          "name": "stdout"
        }
      ]
    },
    {
      "cell_type": "code",
      "metadata": {
        "id": "IyG-f5gyhly_",
        "outputId": "737f4e9f-17b7-43e9-ad17-abb92d15c9d4",
        "colab": {
          "base_uri": "https://localhost:8080/"
        }
      },
      "source": [
        "# Create Train Test frame\n",
        "test_dataset = pd.DataFrame({\n",
        "    'tweet_id' : tweet_id_test ,\n",
        "    'Tweet'    : X_test,\n",
        "    'class': y_test\n",
        "    })\n",
        "\n",
        "print(test_dataset['class'].value_counts())"
      ],
      "execution_count": 7,
      "outputs": [
        {
          "output_type": "stream",
          "text": [
            "1    560\n",
            "0    525\n",
            "Name: class, dtype: int64\n"
          ],
          "name": "stdout"
        }
      ]
    },
    {
      "cell_type": "code",
      "metadata": {
        "id": "dvYrqyPHhlzD"
      },
      "source": [
        "# Save Train Data\n",
        "train_dataset.to_csv(dataFolder+\"/LSTM_train_Data.csv\", index = False)\n",
        "\n",
        "# Save test data\n",
        "test_dataset.to_csv(dataFolder+\"/LSTM_test_Data.csv\", index = False)"
      ],
      "execution_count": 8,
      "outputs": []
    },
    {
      "cell_type": "markdown",
      "metadata": {
        "id": "LXTCNhyKhlzJ"
      },
      "source": [
        "### Keras Library "
      ]
    },
    {
      "cell_type": "code",
      "metadata": {
        "id": "5NDgT8OxhlzK"
      },
      "source": [
        "# Import Tensorflow\n",
        "import os\n",
        "import tensorflow\n",
        "os.environ['KERAS_BACKEND'] = 'tensorflow'\n",
        "\n",
        "import keras\n",
        "from keras.models import Sequential\n",
        "from keras.layers import Dense, Embedding, LSTM, SpatialDropout1D"
      ],
      "execution_count": 9,
      "outputs": []
    },
    {
      "cell_type": "markdown",
      "metadata": {
        "id": "6RaN9fD9hlzQ"
      },
      "source": [
        "## Keras Tokenizer\n",
        "###### There are many different methods to do this conversion like count vectorizer, TF-IDF vectorizer. We will use Keras tokenizers to serve the same purpose."
      ]
    },
    {
      "cell_type": "code",
      "metadata": {
        "id": "JVjnAeYhhlzR"
      },
      "source": [
        "from keras.preprocessing.text import Tokenizer\n",
        "from keras.preprocessing.sequence import pad_sequences\n",
        "\n",
        "import pandas as pd"
      ],
      "execution_count": 10,
      "outputs": []
    },
    {
      "cell_type": "code",
      "metadata": {
        "id": "j31gOKuthlzV"
      },
      "source": [
        "dataFolder = \"/content/sample_data/outputs\"\n",
        "# Load data\n",
        "\n",
        "train_data = pd.read_csv(dataFolder+\"/LSTM_train_Data.csv\")\n",
        "\n",
        "test_data = pd.read_csv(dataFolder+\"/LSTM_test_Data.csv\")"
      ],
      "execution_count": 11,
      "outputs": []
    },
    {
      "cell_type": "code",
      "metadata": {
        "id": "PIBVVw-JhlzY",
        "outputId": "ec546dca-621d-4275-ca95-00c5ab34de47",
        "colab": {
          "base_uri": "https://localhost:8080/"
        }
      },
      "source": [
        "train_data.columns"
      ],
      "execution_count": 12,
      "outputs": [
        {
          "output_type": "execute_result",
          "data": {
            "text/plain": [
              "Index(['tweet_id', 'Tweet', 'class'], dtype='object')"
            ]
          },
          "metadata": {
            "tags": []
          },
          "execution_count": 12
        }
      ]
    },
    {
      "cell_type": "markdown",
      "metadata": {
        "id": "3bt0_oFa0GN5"
      },
      "source": [
        "##Tokenization"
      ]
    },
    {
      "cell_type": "code",
      "metadata": {
        "id": "cfjlk8N8hlzb"
      },
      "source": [
        "tokenizer = Tokenizer(num_words = 2500, split = ' ')\n",
        "\n",
        "# Updates internal vocabulary based on a list of texts.\n",
        "tokenizer.fit_on_texts(train_data['Tweet'].astype(str).values)\n",
        "\n",
        "train_tweets = tokenizer.texts_to_sequences(train_data['Tweet'].astype(str).values)\n",
        "\n",
        "\n",
        "max_len = max([len(i) for i in train_tweets])\n",
        "\n",
        "train_tweets = pad_sequences(train_tweets, maxlen = max_len)\n",
        "test_tweets = tokenizer.texts_to_sequences(test_data['Tweet'].astype(str).values)\n",
        "test_tweets = pad_sequences(test_tweets, maxlen = max_len)"
      ],
      "execution_count": 13,
      "outputs": []
    },
    {
      "cell_type": "code",
      "metadata": {
        "id": "KtEkaofzhlze",
        "outputId": "be1b9cfa-2be2-4ef8-f66d-f5af0279bacb",
        "colab": {
          "base_uri": "https://localhost:8080/"
        }
      },
      "source": [
        "train_tweets"
      ],
      "execution_count": 14,
      "outputs": [
        {
          "output_type": "execute_result",
          "data": {
            "text/plain": [
              "array([[   0,    0,    0, ...,  354,  289,  859],\n",
              "       [   0,    0,    0, ...,    3,   34,  686],\n",
              "       [   0,    0,    0, ...,    3,    8, 1368],\n",
              "       ...,\n",
              "       [   0,    0,    0, ...,  124,   31,   99],\n",
              "       [   0,    0,    0, ...,   32,   10,  154],\n",
              "       [   0,    0,    0, ...,   36,  226, 1754]], dtype=int32)"
            ]
          },
          "metadata": {
            "tags": []
          },
          "execution_count": 14
        }
      ]
    },
    {
      "cell_type": "code",
      "metadata": {
        "id": "cXgKI8BDhlzh",
        "outputId": "ac612b14-011c-428a-a45c-408b15a43480",
        "colab": {
          "base_uri": "https://localhost:8080/"
        }
      },
      "source": [
        "# Building the model\n",
        "model = Sequential()\n",
        "model.add(Embedding(2500, 128, input_length = train_tweets.shape[1]))\n",
        "model.add(SpatialDropout1D(0.4))\n",
        "model.add(LSTM(256, dropout = 0.2))\n",
        "model.add(Dense(2, activation = 'softmax'))\n",
        "model.compile(loss = 'categorical_crossentropy', optimizer = 'adam', metrics = ['accuracy'])\n",
        "model.summary()"
      ],
      "execution_count": 15,
      "outputs": [
        {
          "output_type": "stream",
          "text": [
            "Model: \"sequential\"\n",
            "_________________________________________________________________\n",
            "Layer (type)                 Output Shape              Param #   \n",
            "=================================================================\n",
            "embedding (Embedding)        (None, 23, 128)           320000    \n",
            "_________________________________________________________________\n",
            "spatial_dropout1d (SpatialDr (None, 23, 128)           0         \n",
            "_________________________________________________________________\n",
            "lstm (LSTM)                  (None, 256)               394240    \n",
            "_________________________________________________________________\n",
            "dense (Dense)                (None, 2)                 514       \n",
            "=================================================================\n",
            "Total params: 714,754\n",
            "Trainable params: 714,754\n",
            "Non-trainable params: 0\n",
            "_________________________________________________________________\n"
          ],
          "name": "stdout"
        }
      ]
    },
    {
      "cell_type": "code",
      "metadata": {
        "id": "U0u6QoJzhlzk",
        "outputId": "106cd157-a6a6-4040-fcf0-464ded7bdca2",
        "colab": {
          "base_uri": "https://localhost:8080/"
        }
      },
      "source": [
        "# Training the model\n",
        "history = model.fit(train_tweets, pd.get_dummies(train_data['class']).values, epochs = 10, batch_size = 128, validation_split = 0.2)"
      ],
      "execution_count": 16,
      "outputs": [
        {
          "output_type": "stream",
          "text": [
            "Epoch 1/10\n",
            "28/28 [==============================] - 6s 229ms/step - loss: 0.6742 - accuracy: 0.6266 - val_loss: 0.6013 - val_accuracy: 0.6382\n",
            "Epoch 2/10\n",
            "28/28 [==============================] - 6s 217ms/step - loss: 0.4225 - accuracy: 0.8401 - val_loss: 0.3525 - val_accuracy: 0.8583\n",
            "Epoch 3/10\n",
            "28/28 [==============================] - 6s 222ms/step - loss: 0.2194 - accuracy: 0.9167 - val_loss: 0.2476 - val_accuracy: 0.9078\n",
            "Epoch 4/10\n",
            "28/28 [==============================] - 6s 222ms/step - loss: 0.1204 - accuracy: 0.9597 - val_loss: 0.2099 - val_accuracy: 0.9217\n",
            "Epoch 5/10\n",
            "28/28 [==============================] - 6s 222ms/step - loss: 0.0806 - accuracy: 0.9726 - val_loss: 0.2491 - val_accuracy: 0.9194\n",
            "Epoch 6/10\n",
            "28/28 [==============================] - 6s 224ms/step - loss: 0.0564 - accuracy: 0.9816 - val_loss: 0.2353 - val_accuracy: 0.9240\n",
            "Epoch 7/10\n",
            "28/28 [==============================] - 6s 225ms/step - loss: 0.0468 - accuracy: 0.9862 - val_loss: 0.3196 - val_accuracy: 0.9044\n",
            "Epoch 8/10\n",
            "28/28 [==============================] - 6s 223ms/step - loss: 0.0433 - accuracy: 0.9865 - val_loss: 0.2655 - val_accuracy: 0.9182\n",
            "Epoch 9/10\n",
            "28/28 [==============================] - 6s 223ms/step - loss: 0.0321 - accuracy: 0.9902 - val_loss: 0.3184 - val_accuracy: 0.9078\n",
            "Epoch 10/10\n",
            "28/28 [==============================] - 6s 221ms/step - loss: 0.0259 - accuracy: 0.9922 - val_loss: 0.3764 - val_accuracy: 0.9032\n"
          ],
          "name": "stdout"
        }
      ]
    },
    {
      "cell_type": "code",
      "metadata": {
        "id": "6bXO7Drjhlzm",
        "outputId": "be46a081-03a6-420e-9718-bb15ed2f8bf4",
        "colab": {
          "base_uri": "https://localhost:8080/"
        }
      },
      "source": [
        "# Testing the model\n",
        "\n",
        "score, accuracy = model.evaluate(test_tweets, pd.get_dummies(test_data['class']).values, batch_size = 128)\n",
        "print(\"Test accuracy: {}\".format(accuracy))"
      ],
      "execution_count": 17,
      "outputs": [
        {
          "output_type": "stream",
          "text": [
            "9/9 [==============================] - 0s 49ms/step - loss: 0.4872 - accuracy: 0.8857\n",
            "Test accuracy: 0.8857142925262451\n"
          ],
          "name": "stdout"
        }
      ]
    }
  ]
}