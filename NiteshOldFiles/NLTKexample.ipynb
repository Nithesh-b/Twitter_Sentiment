{
  "nbformat": 4,
  "nbformat_minor": 0,
  "metadata": {
    "kernelspec": {
      "display_name": "Python 3",
      "language": "python",
      "name": "python3"
    },
    "language_info": {
      "codemirror_mode": {
        "name": "ipython",
        "version": 3
      },
      "file_extension": ".py",
      "mimetype": "text/x-python",
      "name": "python",
      "nbconvert_exporter": "python",
      "pygments_lexer": "ipython3",
      "version": "3.7.0"
    },
    "colab": {
      "name": "NLTKexample.ipynb",
      "provenance": [],
      "collapsed_sections": [],
      "toc_visible": true,
      "include_colab_link": true
    }
  },
  "cells": [
    {
      "cell_type": "markdown",
      "metadata": {
        "id": "view-in-github",
        "colab_type": "text"
      },
      "source": [
        "<a href=\"https://colab.research.google.com/github/Nithesh-b/Twitter_Sentiment/blob/master/NLTKexample.ipynb\" target=\"_parent\"><img src=\"https://colab.research.google.com/assets/colab-badge.svg\" alt=\"Open In Colab\"/></a>"
      ]
    },
    {
      "cell_type": "code",
      "metadata": {
        "id": "DVcHhmzR5mKe",
        "outputId": "e8c3e1e3-0e2f-433c-8f5e-aa531e207302",
        "colab": {
          "base_uri": "https://localhost:8080/",
          "height": 51
        }
      },
      "source": [
        "import numpy as np \n",
        "print('numpy: {}'.format(np.__version__)) # Printing the version of Numpy\n",
        "\n",
        "import pandas as pd\n",
        "print('pandas: {}'.format(pd.__version__)) # Printing the version of pandas\n",
        "\n",
        "import re\n",
        "import matplotlib.pyplot as plt\n",
        "%matplotlib inline"
      ],
      "execution_count": 173,
      "outputs": [
        {
          "output_type": "stream",
          "text": [
            "numpy: 1.18.5\n",
            "pandas: 1.0.5\n"
          ],
          "name": "stdout"
        }
      ]
    },
    {
      "cell_type": "code",
      "metadata": {
        "id": "mwMd8Ljp5mKj",
        "outputId": "b325d72a-d2b4-4f31-e7f3-73b86900e811",
        "colab": {
          "base_uri": "https://localhost:8080/",
          "height": 85
        }
      },
      "source": [
        "import re\n",
        "import nltk\n",
        "nltk.download('wordnet')\n",
        "nltk.download('stopwords')\n",
        "from nltk.corpus import stopwords\n",
        "from termcolor import colored\n",
        "from nltk.stem import PorterStemmer\n",
        "from nltk.stem import WordNetLemmatizer"
      ],
      "execution_count": 174,
      "outputs": [
        {
          "output_type": "stream",
          "text": [
            "[nltk_data] Downloading package wordnet to /root/nltk_data...\n",
            "[nltk_data]   Package wordnet is already up-to-date!\n",
            "[nltk_data] Downloading package stopwords to /root/nltk_data...\n",
            "[nltk_data]   Package stopwords is already up-to-date!\n"
          ],
          "name": "stdout"
        }
      ]
    },
    {
      "cell_type": "code",
      "metadata": {
        "id": "FzHURhek5mKm"
      },
      "source": [
        "# Data read - All Required data  are in datafolder\n",
        "\n",
        "\n",
        "InputdataFolder = \"/content/sample_data/Base_tweets_DataSetV3.xlsx\"\n"
      ],
      "execution_count": 175,
      "outputs": []
    },
    {
      "cell_type": "code",
      "metadata": {
        "id": "UXlw1lZ25mKo",
        "outputId": "8c6eb710-3bf0-4c45-f40e-05a6c4a2e60f",
        "colab": {
          "base_uri": "https://localhost:8080/",
          "height": 34
        }
      },
      "source": [
        "tweets_df = pd.read_excel(InputdataFolder)\n",
        "print(tweets_df.shape)"
      ],
      "execution_count": 176,
      "outputs": [
        {
          "output_type": "stream",
          "text": [
            "(30256, 10)\n"
          ],
          "name": "stdout"
        }
      ]
    },
    {
      "cell_type": "code",
      "metadata": {
        "id": "SWOd3wEt5mKr"
      },
      "source": [
        "#% of missing values in each column\n",
        "def find_missing_values_func(df):\n",
        "        mis_val = df.isnull().sum()\n",
        "        mis_val_percent = 100 * df.isnull().sum() / len(df)\n",
        "        mis_val_table = pd.concat([mis_val, mis_val_percent], axis=1)\n",
        "        mis_val_table_ren_columns = mis_val_table.rename(\n",
        "        columns = {0 : 'Missing Values', 1 : '% of Total Values'})\n",
        "        mis_val_table_ren_columns = mis_val_table_ren_columns[\n",
        "            mis_val_table_ren_columns.iloc[:,1] != 0].sort_values(\n",
        "        '% of Total Values', ascending=False).round(1)\n",
        "        print (\"Selected dataframe has \" + str(df.shape[1]) + \" columns.\\n\"      \n",
        "            \"There are \" + str(mis_val_table_ren_columns.shape[0]) +\n",
        "              \" columns that have missing values.\")\n",
        "        return mis_val_table_ren_columns"
      ],
      "execution_count": 177,
      "outputs": []
    },
    {
      "cell_type": "code",
      "metadata": {
        "id": "TQh1GM9S5mKu",
        "outputId": "4f6d1e91-4f65-4f32-d2ae-73985c7b349f",
        "colab": {
          "base_uri": "https://localhost:8080/",
          "height": 153
        }
      },
      "source": [
        "#Call the find_missing_values_func(df)\n",
        "columnsWiseMissingValue = find_missing_values_func(tweets_df) \n",
        "print(columnsWiseMissingValue)"
      ],
      "execution_count": 178,
      "outputs": [
        {
          "output_type": "stream",
          "text": [
            "Selected dataframe has 10 columns.\n",
            "There are 5 columns that have missing values.\n",
            "              Missing Values  % of Total Values\n",
            "Date Created           10378               34.3\n",
            "Tweet_source            2230                7.4\n",
            "Tweet                    101                0.3\n",
            "Country                   76                0.3\n",
            "Tweeted-By                33                0.1\n"
          ],
          "name": "stdout"
        }
      ]
    },
    {
      "cell_type": "markdown",
      "metadata": {
        "id": "lz4C7DLO5mKx"
      },
      "source": [
        "### class column creation"
      ]
    },
    {
      "cell_type": "code",
      "metadata": {
        "id": "QYi3Feae89g-",
        "outputId": "0f2027c8-2fef-4445-824c-45dd06f69ead",
        "colab": {
          "base_uri": "https://localhost:8080/",
          "height": 606
        }
      },
      "source": [
        "tweets_df"
      ],
      "execution_count": 179,
      "outputs": [
        {
          "output_type": "execute_result",
          "data": {
            "text/html": [
              "<div>\n",
              "<style scoped>\n",
              "    .dataframe tbody tr th:only-of-type {\n",
              "        vertical-align: middle;\n",
              "    }\n",
              "\n",
              "    .dataframe tbody tr th {\n",
              "        vertical-align: top;\n",
              "    }\n",
              "\n",
              "    .dataframe thead th {\n",
              "        text-align: right;\n",
              "    }\n",
              "</style>\n",
              "<table border=\"1\" class=\"dataframe\">\n",
              "  <thead>\n",
              "    <tr style=\"text-align: right;\">\n",
              "      <th></th>\n",
              "      <th>tweet_id</th>\n",
              "      <th>SourceDataBase</th>\n",
              "      <th>OS</th>\n",
              "      <th>Tweet-Class_category-Code</th>\n",
              "      <th>Tweet_source</th>\n",
              "      <th>Tweeted-By</th>\n",
              "      <th>retweet_count</th>\n",
              "      <th>Tweet</th>\n",
              "      <th>Date Created</th>\n",
              "      <th>Country</th>\n",
              "    </tr>\n",
              "  </thead>\n",
              "  <tbody>\n",
              "    <tr>\n",
              "      <th>0</th>\n",
              "      <td>neu-GG-Tweet-11945</td>\n",
              "      <td>MySQL</td>\n",
              "      <td>Windows</td>\n",
              "      <td>99</td>\n",
              "      <td>NaN</td>\n",
              "      <td>P32013</td>\n",
              "      <td>0</td>\n",
              "      <td>Just landed. My ears hurt</td>\n",
              "      <td>2016-02-27 11:35:52</td>\n",
              "      <td>Canada</td>\n",
              "    </tr>\n",
              "    <tr>\n",
              "      <th>1</th>\n",
              "      <td>neu-GG-Tweet-11944</td>\n",
              "      <td>MySQL</td>\n",
              "      <td>Windows</td>\n",
              "      <td>99</td>\n",
              "      <td>NaN</td>\n",
              "      <td>P32012</td>\n",
              "      <td>0</td>\n",
              "      <td>ouch following the #ASOT400 in TweetDeck excee...</td>\n",
              "      <td>2016-02-27 11:35:52</td>\n",
              "      <td>Canada</td>\n",
              "    </tr>\n",
              "    <tr>\n",
              "      <th>2</th>\n",
              "      <td>neu-GG-Tweet-11943</td>\n",
              "      <td>MySQL</td>\n",
              "      <td>Windows</td>\n",
              "      <td>99</td>\n",
              "      <td>NaN</td>\n",
              "      <td>P32011</td>\n",
              "      <td>0</td>\n",
              "      <td>@Nessiebear i really wanna see it! but no one ...</td>\n",
              "      <td>2016-02-27 11:35:52</td>\n",
              "      <td>Canada</td>\n",
              "    </tr>\n",
              "    <tr>\n",
              "      <th>3</th>\n",
              "      <td>neu-GG-Tweet-11942</td>\n",
              "      <td>MySQL</td>\n",
              "      <td>Windows</td>\n",
              "      <td>99</td>\n",
              "      <td>NaN</td>\n",
              "      <td>P32010</td>\n",
              "      <td>0</td>\n",
              "      <td>@TessAaaaah Ahh, this is how you reply!! I had...</td>\n",
              "      <td>2016-02-27 11:35:52</td>\n",
              "      <td>Canada</td>\n",
              "    </tr>\n",
              "    <tr>\n",
              "      <th>4</th>\n",
              "      <td>neu-GG-Tweet-11941</td>\n",
              "      <td>MySQL</td>\n",
              "      <td>Windows</td>\n",
              "      <td>99</td>\n",
              "      <td>NaN</td>\n",
              "      <td>P32009</td>\n",
              "      <td>0</td>\n",
              "      <td>@chenez awwww. and i didn't get to be the hero...</td>\n",
              "      <td>2016-02-27 11:35:52</td>\n",
              "      <td>Canada</td>\n",
              "    </tr>\n",
              "    <tr>\n",
              "      <th>...</th>\n",
              "      <td>...</td>\n",
              "      <td>...</td>\n",
              "      <td>...</td>\n",
              "      <td>...</td>\n",
              "      <td>...</td>\n",
              "      <td>...</td>\n",
              "      <td>...</td>\n",
              "      <td>...</td>\n",
              "      <td>...</td>\n",
              "      <td>...</td>\n",
              "    </tr>\n",
              "    <tr>\n",
              "      <th>30251</th>\n",
              "      <td>neg-MG-12263</td>\n",
              "      <td>SQLSERVER</td>\n",
              "      <td>Windows</td>\n",
              "      <td>3</td>\n",
              "      <td>NaN</td>\n",
              "      <td>PMG12172</td>\n",
              "      <td>0</td>\n",
              "      <td>is not the new @AmericanAir is more like the n...</td>\n",
              "      <td>2017-11-06 09:51:15</td>\n",
              "      <td>USA</td>\n",
              "    </tr>\n",
              "    <tr>\n",
              "      <th>30252</th>\n",
              "      <td>neg-MG-12264</td>\n",
              "      <td>SQLSERVER</td>\n",
              "      <td>Windows</td>\n",
              "      <td>3</td>\n",
              "      <td>NaN</td>\n",
              "      <td>PMG12173</td>\n",
              "      <td>0</td>\n",
              "      <td>you're killing me from the inside</td>\n",
              "      <td>2016-02-27 11:35:52</td>\n",
              "      <td>USA</td>\n",
              "    </tr>\n",
              "    <tr>\n",
              "      <th>30253</th>\n",
              "      <td>neg-MG-12265</td>\n",
              "      <td>SQLSERVER</td>\n",
              "      <td>Windows</td>\n",
              "      <td>3</td>\n",
              "      <td>NaN</td>\n",
              "      <td>PMG12174</td>\n",
              "      <td>0</td>\n",
              "      <td>just hung up on me again. Another waste of an ...</td>\n",
              "      <td>2016-02-27 11:35:52</td>\n",
              "      <td>USA</td>\n",
              "    </tr>\n",
              "    <tr>\n",
              "      <th>30254</th>\n",
              "      <td>neg-MG-12266</td>\n",
              "      <td>SQLSERVER</td>\n",
              "      <td>Windows</td>\n",
              "      <td>3</td>\n",
              "      <td>NaN</td>\n",
              "      <td>PMG12175</td>\n",
              "      <td>0</td>\n",
              "      <td>and when will one of these agents be available...</td>\n",
              "      <td>2017-11-06 09:49:00</td>\n",
              "      <td>USA</td>\n",
              "    </tr>\n",
              "    <tr>\n",
              "      <th>30255</th>\n",
              "      <td>neg-MG-12267</td>\n",
              "      <td>SQLSERVER</td>\n",
              "      <td>Windows</td>\n",
              "      <td>3</td>\n",
              "      <td>NaN</td>\n",
              "      <td>PMG12176</td>\n",
              "      <td>0</td>\n",
              "      <td>is there a better time to call? My flight is o...</td>\n",
              "      <td>2017-11-06 09:48:52</td>\n",
              "      <td>USA</td>\n",
              "    </tr>\n",
              "  </tbody>\n",
              "</table>\n",
              "<p>30256 rows × 10 columns</p>\n",
              "</div>"
            ],
            "text/plain": [
              "                 tweet_id SourceDataBase  ...        Date Created  Country\n",
              "0      neu-GG-Tweet-11945          MySQL  ... 2016-02-27 11:35:52   Canada\n",
              "1      neu-GG-Tweet-11944          MySQL  ... 2016-02-27 11:35:52   Canada\n",
              "2      neu-GG-Tweet-11943          MySQL  ... 2016-02-27 11:35:52   Canada\n",
              "3      neu-GG-Tweet-11942          MySQL  ... 2016-02-27 11:35:52   Canada\n",
              "4      neu-GG-Tweet-11941          MySQL  ... 2016-02-27 11:35:52   Canada\n",
              "...                   ...            ...  ...                 ...      ...\n",
              "30251        neg-MG-12263      SQLSERVER  ... 2017-11-06 09:51:15      USA\n",
              "30252        neg-MG-12264      SQLSERVER  ... 2016-02-27 11:35:52      USA\n",
              "30253        neg-MG-12265      SQLSERVER  ... 2016-02-27 11:35:52      USA\n",
              "30254        neg-MG-12266      SQLSERVER  ... 2017-11-06 09:49:00      USA\n",
              "30255        neg-MG-12267      SQLSERVER  ... 2017-11-06 09:48:52      USA\n",
              "\n",
              "[30256 rows x 10 columns]"
            ]
          },
          "metadata": {
            "tags": []
          },
          "execution_count": 179
        }
      ]
    },
    {
      "cell_type": "code",
      "metadata": {
        "id": "Hv8SUWgCD6w7",
        "outputId": "bc4b5f71-7f44-4f57-f4c3-455bed2e713e",
        "colab": {
          "base_uri": "https://localhost:8080/",
          "height": 221
        }
      },
      "source": [
        "tweets_df.iloc[:,0]"
      ],
      "execution_count": 180,
      "outputs": [
        {
          "output_type": "execute_result",
          "data": {
            "text/plain": [
              "0        neu-GG-Tweet-11945\n",
              "1        neu-GG-Tweet-11944\n",
              "2        neu-GG-Tweet-11943\n",
              "3        neu-GG-Tweet-11942\n",
              "4        neu-GG-Tweet-11941\n",
              "                ...        \n",
              "30251          neg-MG-12263\n",
              "30252          neg-MG-12264\n",
              "30253          neg-MG-12265\n",
              "30254          neg-MG-12266\n",
              "30255          neg-MG-12267\n",
              "Name: tweet_id, Length: 30256, dtype: object"
            ]
          },
          "metadata": {
            "tags": []
          },
          "execution_count": 180
        }
      ]
    },
    {
      "cell_type": "code",
      "metadata": {
        "id": "M4Rrkk7MIQRJ"
      },
      "source": [
        "#tweets_df.iloc[:,0] = tweets_df.iloc[:,0][:-12]\n",
        "#Not working. Have to rework."
      ],
      "execution_count": 181,
      "outputs": []
    },
    {
      "cell_type": "code",
      "metadata": {
        "id": "I0KxLEn_IZUr",
        "outputId": "494c70c8-9971-4c86-cdc7-151951828d3b",
        "colab": {
          "base_uri": "https://localhost:8080/",
          "height": 221
        }
      },
      "source": [
        "tweets_df.iloc[:,0].tail"
      ],
      "execution_count": 182,
      "outputs": [
        {
          "output_type": "execute_result",
          "data": {
            "text/plain": [
              "<bound method NDFrame.tail of 0        neu-GG-Tweet-11945\n",
              "1        neu-GG-Tweet-11944\n",
              "2        neu-GG-Tweet-11943\n",
              "3        neu-GG-Tweet-11942\n",
              "4        neu-GG-Tweet-11941\n",
              "                ...        \n",
              "30251          neg-MG-12263\n",
              "30252          neg-MG-12264\n",
              "30253          neg-MG-12265\n",
              "30254          neg-MG-12266\n",
              "30255          neg-MG-12267\n",
              "Name: tweet_id, Length: 30256, dtype: object>"
            ]
          },
          "metadata": {
            "tags": []
          },
          "execution_count": 182
        }
      ]
    },
    {
      "cell_type": "markdown",
      "metadata": {
        "id": "mck20HksOLEq"
      },
      "source": [
        "#### Drop NULL Tweet-Text  rows as we use tweet text for text processing"
      ]
    },
    {
      "cell_type": "code",
      "metadata": {
        "id": "qlxdsIfEMUz_"
      },
      "source": [
        "#tweets_df = tweets_df.dropna(subset=[7])\n",
        "#tweets_df = tweets_df[pd.notnull(tweets_df['Tweet'])]\n",
        "tweets_df.dropna(subset=['Tweet'], how='all', inplace=True)\n",
        "#Not sure if it is dropping any values"
      ],
      "execution_count": 183,
      "outputs": []
    },
    {
      "cell_type": "code",
      "metadata": {
        "id": "eET3HScgNFfL",
        "outputId": "6a5f2074-dd15-43f6-b8e5-9dfe44b851f3",
        "colab": {
          "base_uri": "https://localhost:8080/",
          "height": 606
        }
      },
      "source": [
        "tweets_df"
      ],
      "execution_count": 184,
      "outputs": [
        {
          "output_type": "execute_result",
          "data": {
            "text/html": [
              "<div>\n",
              "<style scoped>\n",
              "    .dataframe tbody tr th:only-of-type {\n",
              "        vertical-align: middle;\n",
              "    }\n",
              "\n",
              "    .dataframe tbody tr th {\n",
              "        vertical-align: top;\n",
              "    }\n",
              "\n",
              "    .dataframe thead th {\n",
              "        text-align: right;\n",
              "    }\n",
              "</style>\n",
              "<table border=\"1\" class=\"dataframe\">\n",
              "  <thead>\n",
              "    <tr style=\"text-align: right;\">\n",
              "      <th></th>\n",
              "      <th>tweet_id</th>\n",
              "      <th>SourceDataBase</th>\n",
              "      <th>OS</th>\n",
              "      <th>Tweet-Class_category-Code</th>\n",
              "      <th>Tweet_source</th>\n",
              "      <th>Tweeted-By</th>\n",
              "      <th>retweet_count</th>\n",
              "      <th>Tweet</th>\n",
              "      <th>Date Created</th>\n",
              "      <th>Country</th>\n",
              "    </tr>\n",
              "  </thead>\n",
              "  <tbody>\n",
              "    <tr>\n",
              "      <th>0</th>\n",
              "      <td>neu-GG-Tweet-11945</td>\n",
              "      <td>MySQL</td>\n",
              "      <td>Windows</td>\n",
              "      <td>99</td>\n",
              "      <td>NaN</td>\n",
              "      <td>P32013</td>\n",
              "      <td>0</td>\n",
              "      <td>Just landed. My ears hurt</td>\n",
              "      <td>2016-02-27 11:35:52</td>\n",
              "      <td>Canada</td>\n",
              "    </tr>\n",
              "    <tr>\n",
              "      <th>1</th>\n",
              "      <td>neu-GG-Tweet-11944</td>\n",
              "      <td>MySQL</td>\n",
              "      <td>Windows</td>\n",
              "      <td>99</td>\n",
              "      <td>NaN</td>\n",
              "      <td>P32012</td>\n",
              "      <td>0</td>\n",
              "      <td>ouch following the #ASOT400 in TweetDeck excee...</td>\n",
              "      <td>2016-02-27 11:35:52</td>\n",
              "      <td>Canada</td>\n",
              "    </tr>\n",
              "    <tr>\n",
              "      <th>2</th>\n",
              "      <td>neu-GG-Tweet-11943</td>\n",
              "      <td>MySQL</td>\n",
              "      <td>Windows</td>\n",
              "      <td>99</td>\n",
              "      <td>NaN</td>\n",
              "      <td>P32011</td>\n",
              "      <td>0</td>\n",
              "      <td>@Nessiebear i really wanna see it! but no one ...</td>\n",
              "      <td>2016-02-27 11:35:52</td>\n",
              "      <td>Canada</td>\n",
              "    </tr>\n",
              "    <tr>\n",
              "      <th>3</th>\n",
              "      <td>neu-GG-Tweet-11942</td>\n",
              "      <td>MySQL</td>\n",
              "      <td>Windows</td>\n",
              "      <td>99</td>\n",
              "      <td>NaN</td>\n",
              "      <td>P32010</td>\n",
              "      <td>0</td>\n",
              "      <td>@TessAaaaah Ahh, this is how you reply!! I had...</td>\n",
              "      <td>2016-02-27 11:35:52</td>\n",
              "      <td>Canada</td>\n",
              "    </tr>\n",
              "    <tr>\n",
              "      <th>4</th>\n",
              "      <td>neu-GG-Tweet-11941</td>\n",
              "      <td>MySQL</td>\n",
              "      <td>Windows</td>\n",
              "      <td>99</td>\n",
              "      <td>NaN</td>\n",
              "      <td>P32009</td>\n",
              "      <td>0</td>\n",
              "      <td>@chenez awwww. and i didn't get to be the hero...</td>\n",
              "      <td>2016-02-27 11:35:52</td>\n",
              "      <td>Canada</td>\n",
              "    </tr>\n",
              "    <tr>\n",
              "      <th>...</th>\n",
              "      <td>...</td>\n",
              "      <td>...</td>\n",
              "      <td>...</td>\n",
              "      <td>...</td>\n",
              "      <td>...</td>\n",
              "      <td>...</td>\n",
              "      <td>...</td>\n",
              "      <td>...</td>\n",
              "      <td>...</td>\n",
              "      <td>...</td>\n",
              "    </tr>\n",
              "    <tr>\n",
              "      <th>30251</th>\n",
              "      <td>neg-MG-12263</td>\n",
              "      <td>SQLSERVER</td>\n",
              "      <td>Windows</td>\n",
              "      <td>3</td>\n",
              "      <td>NaN</td>\n",
              "      <td>PMG12172</td>\n",
              "      <td>0</td>\n",
              "      <td>is not the new @AmericanAir is more like the n...</td>\n",
              "      <td>2017-11-06 09:51:15</td>\n",
              "      <td>USA</td>\n",
              "    </tr>\n",
              "    <tr>\n",
              "      <th>30252</th>\n",
              "      <td>neg-MG-12264</td>\n",
              "      <td>SQLSERVER</td>\n",
              "      <td>Windows</td>\n",
              "      <td>3</td>\n",
              "      <td>NaN</td>\n",
              "      <td>PMG12173</td>\n",
              "      <td>0</td>\n",
              "      <td>you're killing me from the inside</td>\n",
              "      <td>2016-02-27 11:35:52</td>\n",
              "      <td>USA</td>\n",
              "    </tr>\n",
              "    <tr>\n",
              "      <th>30253</th>\n",
              "      <td>neg-MG-12265</td>\n",
              "      <td>SQLSERVER</td>\n",
              "      <td>Windows</td>\n",
              "      <td>3</td>\n",
              "      <td>NaN</td>\n",
              "      <td>PMG12174</td>\n",
              "      <td>0</td>\n",
              "      <td>just hung up on me again. Another waste of an ...</td>\n",
              "      <td>2016-02-27 11:35:52</td>\n",
              "      <td>USA</td>\n",
              "    </tr>\n",
              "    <tr>\n",
              "      <th>30254</th>\n",
              "      <td>neg-MG-12266</td>\n",
              "      <td>SQLSERVER</td>\n",
              "      <td>Windows</td>\n",
              "      <td>3</td>\n",
              "      <td>NaN</td>\n",
              "      <td>PMG12175</td>\n",
              "      <td>0</td>\n",
              "      <td>and when will one of these agents be available...</td>\n",
              "      <td>2017-11-06 09:49:00</td>\n",
              "      <td>USA</td>\n",
              "    </tr>\n",
              "    <tr>\n",
              "      <th>30255</th>\n",
              "      <td>neg-MG-12267</td>\n",
              "      <td>SQLSERVER</td>\n",
              "      <td>Windows</td>\n",
              "      <td>3</td>\n",
              "      <td>NaN</td>\n",
              "      <td>PMG12176</td>\n",
              "      <td>0</td>\n",
              "      <td>is there a better time to call? My flight is o...</td>\n",
              "      <td>2017-11-06 09:48:52</td>\n",
              "      <td>USA</td>\n",
              "    </tr>\n",
              "  </tbody>\n",
              "</table>\n",
              "<p>30155 rows × 10 columns</p>\n",
              "</div>"
            ],
            "text/plain": [
              "                 tweet_id SourceDataBase  ...        Date Created  Country\n",
              "0      neu-GG-Tweet-11945          MySQL  ... 2016-02-27 11:35:52   Canada\n",
              "1      neu-GG-Tweet-11944          MySQL  ... 2016-02-27 11:35:52   Canada\n",
              "2      neu-GG-Tweet-11943          MySQL  ... 2016-02-27 11:35:52   Canada\n",
              "3      neu-GG-Tweet-11942          MySQL  ... 2016-02-27 11:35:52   Canada\n",
              "4      neu-GG-Tweet-11941          MySQL  ... 2016-02-27 11:35:52   Canada\n",
              "...                   ...            ...  ...                 ...      ...\n",
              "30251        neg-MG-12263      SQLSERVER  ... 2017-11-06 09:51:15      USA\n",
              "30252        neg-MG-12264      SQLSERVER  ... 2016-02-27 11:35:52      USA\n",
              "30253        neg-MG-12265      SQLSERVER  ... 2016-02-27 11:35:52      USA\n",
              "30254        neg-MG-12266      SQLSERVER  ... 2017-11-06 09:49:00      USA\n",
              "30255        neg-MG-12267      SQLSERVER  ... 2017-11-06 09:48:52      USA\n",
              "\n",
              "[30155 rows x 10 columns]"
            ]
          },
          "metadata": {
            "tags": []
          },
          "execution_count": 184
        }
      ]
    },
    {
      "cell_type": "code",
      "metadata": {
        "id": "zK0UHQTkNowO",
        "outputId": "86689034-7d48-4a5f-dc22-03f341cea66c",
        "colab": {
          "base_uri": "https://localhost:8080/",
          "height": 119
        }
      },
      "source": [
        "columnsWiseMissingValue = find_missing_values_func(tweets_df) \n",
        "print(columnsWiseMissingValue)"
      ],
      "execution_count": 185,
      "outputs": [
        {
          "output_type": "stream",
          "text": [
            "Selected dataframe has 10 columns.\n",
            "There are 3 columns that have missing values.\n",
            "              Missing Values  % of Total Values\n",
            "Date Created           10300               34.2\n",
            "Tweet_source            2149                7.1\n",
            "Tweeted-By                33                0.1\n"
          ],
          "name": "stdout"
        }
      ]
    },
    {
      "cell_type": "markdown",
      "metadata": {
        "id": "PqRB3k8POVc9"
      },
      "source": [
        "#### Drop Duplicate rows and duplicate tweet_id"
      ]
    },
    {
      "cell_type": "code",
      "metadata": {
        "id": "ebMMIisyOUCz"
      },
      "source": [
        "tweets_df.drop_duplicates(subset =\"tweet_id\", keep = False, inplace = True) "
      ],
      "execution_count": 186,
      "outputs": []
    },
    {
      "cell_type": "code",
      "metadata": {
        "id": "jRNAkCHpO9Mx",
        "outputId": "1b38b30d-acb6-4af9-9c5d-1f5faf460799",
        "colab": {
          "base_uri": "https://localhost:8080/",
          "height": 606
        }
      },
      "source": [
        "tweets_df"
      ],
      "execution_count": 187,
      "outputs": [
        {
          "output_type": "execute_result",
          "data": {
            "text/html": [
              "<div>\n",
              "<style scoped>\n",
              "    .dataframe tbody tr th:only-of-type {\n",
              "        vertical-align: middle;\n",
              "    }\n",
              "\n",
              "    .dataframe tbody tr th {\n",
              "        vertical-align: top;\n",
              "    }\n",
              "\n",
              "    .dataframe thead th {\n",
              "        text-align: right;\n",
              "    }\n",
              "</style>\n",
              "<table border=\"1\" class=\"dataframe\">\n",
              "  <thead>\n",
              "    <tr style=\"text-align: right;\">\n",
              "      <th></th>\n",
              "      <th>tweet_id</th>\n",
              "      <th>SourceDataBase</th>\n",
              "      <th>OS</th>\n",
              "      <th>Tweet-Class_category-Code</th>\n",
              "      <th>Tweet_source</th>\n",
              "      <th>Tweeted-By</th>\n",
              "      <th>retweet_count</th>\n",
              "      <th>Tweet</th>\n",
              "      <th>Date Created</th>\n",
              "      <th>Country</th>\n",
              "    </tr>\n",
              "  </thead>\n",
              "  <tbody>\n",
              "    <tr>\n",
              "      <th>0</th>\n",
              "      <td>neu-GG-Tweet-11945</td>\n",
              "      <td>MySQL</td>\n",
              "      <td>Windows</td>\n",
              "      <td>99</td>\n",
              "      <td>NaN</td>\n",
              "      <td>P32013</td>\n",
              "      <td>0</td>\n",
              "      <td>Just landed. My ears hurt</td>\n",
              "      <td>2016-02-27 11:35:52</td>\n",
              "      <td>Canada</td>\n",
              "    </tr>\n",
              "    <tr>\n",
              "      <th>1</th>\n",
              "      <td>neu-GG-Tweet-11944</td>\n",
              "      <td>MySQL</td>\n",
              "      <td>Windows</td>\n",
              "      <td>99</td>\n",
              "      <td>NaN</td>\n",
              "      <td>P32012</td>\n",
              "      <td>0</td>\n",
              "      <td>ouch following the #ASOT400 in TweetDeck excee...</td>\n",
              "      <td>2016-02-27 11:35:52</td>\n",
              "      <td>Canada</td>\n",
              "    </tr>\n",
              "    <tr>\n",
              "      <th>2</th>\n",
              "      <td>neu-GG-Tweet-11943</td>\n",
              "      <td>MySQL</td>\n",
              "      <td>Windows</td>\n",
              "      <td>99</td>\n",
              "      <td>NaN</td>\n",
              "      <td>P32011</td>\n",
              "      <td>0</td>\n",
              "      <td>@Nessiebear i really wanna see it! but no one ...</td>\n",
              "      <td>2016-02-27 11:35:52</td>\n",
              "      <td>Canada</td>\n",
              "    </tr>\n",
              "    <tr>\n",
              "      <th>3</th>\n",
              "      <td>neu-GG-Tweet-11942</td>\n",
              "      <td>MySQL</td>\n",
              "      <td>Windows</td>\n",
              "      <td>99</td>\n",
              "      <td>NaN</td>\n",
              "      <td>P32010</td>\n",
              "      <td>0</td>\n",
              "      <td>@TessAaaaah Ahh, this is how you reply!! I had...</td>\n",
              "      <td>2016-02-27 11:35:52</td>\n",
              "      <td>Canada</td>\n",
              "    </tr>\n",
              "    <tr>\n",
              "      <th>4</th>\n",
              "      <td>neu-GG-Tweet-11941</td>\n",
              "      <td>MySQL</td>\n",
              "      <td>Windows</td>\n",
              "      <td>99</td>\n",
              "      <td>NaN</td>\n",
              "      <td>P32009</td>\n",
              "      <td>0</td>\n",
              "      <td>@chenez awwww. and i didn't get to be the hero...</td>\n",
              "      <td>2016-02-27 11:35:52</td>\n",
              "      <td>Canada</td>\n",
              "    </tr>\n",
              "    <tr>\n",
              "      <th>...</th>\n",
              "      <td>...</td>\n",
              "      <td>...</td>\n",
              "      <td>...</td>\n",
              "      <td>...</td>\n",
              "      <td>...</td>\n",
              "      <td>...</td>\n",
              "      <td>...</td>\n",
              "      <td>...</td>\n",
              "      <td>...</td>\n",
              "      <td>...</td>\n",
              "    </tr>\n",
              "    <tr>\n",
              "      <th>30251</th>\n",
              "      <td>neg-MG-12263</td>\n",
              "      <td>SQLSERVER</td>\n",
              "      <td>Windows</td>\n",
              "      <td>3</td>\n",
              "      <td>NaN</td>\n",
              "      <td>PMG12172</td>\n",
              "      <td>0</td>\n",
              "      <td>is not the new @AmericanAir is more like the n...</td>\n",
              "      <td>2017-11-06 09:51:15</td>\n",
              "      <td>USA</td>\n",
              "    </tr>\n",
              "    <tr>\n",
              "      <th>30252</th>\n",
              "      <td>neg-MG-12264</td>\n",
              "      <td>SQLSERVER</td>\n",
              "      <td>Windows</td>\n",
              "      <td>3</td>\n",
              "      <td>NaN</td>\n",
              "      <td>PMG12173</td>\n",
              "      <td>0</td>\n",
              "      <td>you're killing me from the inside</td>\n",
              "      <td>2016-02-27 11:35:52</td>\n",
              "      <td>USA</td>\n",
              "    </tr>\n",
              "    <tr>\n",
              "      <th>30253</th>\n",
              "      <td>neg-MG-12265</td>\n",
              "      <td>SQLSERVER</td>\n",
              "      <td>Windows</td>\n",
              "      <td>3</td>\n",
              "      <td>NaN</td>\n",
              "      <td>PMG12174</td>\n",
              "      <td>0</td>\n",
              "      <td>just hung up on me again. Another waste of an ...</td>\n",
              "      <td>2016-02-27 11:35:52</td>\n",
              "      <td>USA</td>\n",
              "    </tr>\n",
              "    <tr>\n",
              "      <th>30254</th>\n",
              "      <td>neg-MG-12266</td>\n",
              "      <td>SQLSERVER</td>\n",
              "      <td>Windows</td>\n",
              "      <td>3</td>\n",
              "      <td>NaN</td>\n",
              "      <td>PMG12175</td>\n",
              "      <td>0</td>\n",
              "      <td>and when will one of these agents be available...</td>\n",
              "      <td>2017-11-06 09:49:00</td>\n",
              "      <td>USA</td>\n",
              "    </tr>\n",
              "    <tr>\n",
              "      <th>30255</th>\n",
              "      <td>neg-MG-12267</td>\n",
              "      <td>SQLSERVER</td>\n",
              "      <td>Windows</td>\n",
              "      <td>3</td>\n",
              "      <td>NaN</td>\n",
              "      <td>PMG12176</td>\n",
              "      <td>0</td>\n",
              "      <td>is there a better time to call? My flight is o...</td>\n",
              "      <td>2017-11-06 09:48:52</td>\n",
              "      <td>USA</td>\n",
              "    </tr>\n",
              "  </tbody>\n",
              "</table>\n",
              "<p>30155 rows × 10 columns</p>\n",
              "</div>"
            ],
            "text/plain": [
              "                 tweet_id SourceDataBase  ...        Date Created  Country\n",
              "0      neu-GG-Tweet-11945          MySQL  ... 2016-02-27 11:35:52   Canada\n",
              "1      neu-GG-Tweet-11944          MySQL  ... 2016-02-27 11:35:52   Canada\n",
              "2      neu-GG-Tweet-11943          MySQL  ... 2016-02-27 11:35:52   Canada\n",
              "3      neu-GG-Tweet-11942          MySQL  ... 2016-02-27 11:35:52   Canada\n",
              "4      neu-GG-Tweet-11941          MySQL  ... 2016-02-27 11:35:52   Canada\n",
              "...                   ...            ...  ...                 ...      ...\n",
              "30251        neg-MG-12263      SQLSERVER  ... 2017-11-06 09:51:15      USA\n",
              "30252        neg-MG-12264      SQLSERVER  ... 2016-02-27 11:35:52      USA\n",
              "30253        neg-MG-12265      SQLSERVER  ... 2016-02-27 11:35:52      USA\n",
              "30254        neg-MG-12266      SQLSERVER  ... 2017-11-06 09:49:00      USA\n",
              "30255        neg-MG-12267      SQLSERVER  ... 2017-11-06 09:48:52      USA\n",
              "\n",
              "[30155 rows x 10 columns]"
            ]
          },
          "metadata": {
            "tags": []
          },
          "execution_count": 187
        }
      ]
    },
    {
      "cell_type": "markdown",
      "metadata": {
        "id": "Xc_wKNHWPUJN"
      },
      "source": [
        "#### Dropping \"Date Created\" column from main dataframe as it has no use"
      ]
    },
    {
      "cell_type": "code",
      "metadata": {
        "id": "XBwk6DpnPVqc"
      },
      "source": [
        "tweets_df = tweets_df.drop(columns=['Date Created','OS','SourceDataBase'])"
      ],
      "execution_count": 188,
      "outputs": []
    },
    {
      "cell_type": "code",
      "metadata": {
        "id": "F7E08A7dQO2I",
        "outputId": "a8e1dd7e-447a-4075-8531-e4426f05ae58",
        "colab": {
          "base_uri": "https://localhost:8080/",
          "height": 419
        }
      },
      "source": [
        "tweets_df"
      ],
      "execution_count": 189,
      "outputs": [
        {
          "output_type": "execute_result",
          "data": {
            "text/html": [
              "<div>\n",
              "<style scoped>\n",
              "    .dataframe tbody tr th:only-of-type {\n",
              "        vertical-align: middle;\n",
              "    }\n",
              "\n",
              "    .dataframe tbody tr th {\n",
              "        vertical-align: top;\n",
              "    }\n",
              "\n",
              "    .dataframe thead th {\n",
              "        text-align: right;\n",
              "    }\n",
              "</style>\n",
              "<table border=\"1\" class=\"dataframe\">\n",
              "  <thead>\n",
              "    <tr style=\"text-align: right;\">\n",
              "      <th></th>\n",
              "      <th>tweet_id</th>\n",
              "      <th>Tweet-Class_category-Code</th>\n",
              "      <th>Tweet_source</th>\n",
              "      <th>Tweeted-By</th>\n",
              "      <th>retweet_count</th>\n",
              "      <th>Tweet</th>\n",
              "      <th>Country</th>\n",
              "    </tr>\n",
              "  </thead>\n",
              "  <tbody>\n",
              "    <tr>\n",
              "      <th>0</th>\n",
              "      <td>neu-GG-Tweet-11945</td>\n",
              "      <td>99</td>\n",
              "      <td>NaN</td>\n",
              "      <td>P32013</td>\n",
              "      <td>0</td>\n",
              "      <td>Just landed. My ears hurt</td>\n",
              "      <td>Canada</td>\n",
              "    </tr>\n",
              "    <tr>\n",
              "      <th>1</th>\n",
              "      <td>neu-GG-Tweet-11944</td>\n",
              "      <td>99</td>\n",
              "      <td>NaN</td>\n",
              "      <td>P32012</td>\n",
              "      <td>0</td>\n",
              "      <td>ouch following the #ASOT400 in TweetDeck excee...</td>\n",
              "      <td>Canada</td>\n",
              "    </tr>\n",
              "    <tr>\n",
              "      <th>2</th>\n",
              "      <td>neu-GG-Tweet-11943</td>\n",
              "      <td>99</td>\n",
              "      <td>NaN</td>\n",
              "      <td>P32011</td>\n",
              "      <td>0</td>\n",
              "      <td>@Nessiebear i really wanna see it! but no one ...</td>\n",
              "      <td>Canada</td>\n",
              "    </tr>\n",
              "    <tr>\n",
              "      <th>3</th>\n",
              "      <td>neu-GG-Tweet-11942</td>\n",
              "      <td>99</td>\n",
              "      <td>NaN</td>\n",
              "      <td>P32010</td>\n",
              "      <td>0</td>\n",
              "      <td>@TessAaaaah Ahh, this is how you reply!! I had...</td>\n",
              "      <td>Canada</td>\n",
              "    </tr>\n",
              "    <tr>\n",
              "      <th>4</th>\n",
              "      <td>neu-GG-Tweet-11941</td>\n",
              "      <td>99</td>\n",
              "      <td>NaN</td>\n",
              "      <td>P32009</td>\n",
              "      <td>0</td>\n",
              "      <td>@chenez awwww. and i didn't get to be the hero...</td>\n",
              "      <td>Canada</td>\n",
              "    </tr>\n",
              "    <tr>\n",
              "      <th>...</th>\n",
              "      <td>...</td>\n",
              "      <td>...</td>\n",
              "      <td>...</td>\n",
              "      <td>...</td>\n",
              "      <td>...</td>\n",
              "      <td>...</td>\n",
              "      <td>...</td>\n",
              "    </tr>\n",
              "    <tr>\n",
              "      <th>30251</th>\n",
              "      <td>neg-MG-12263</td>\n",
              "      <td>3</td>\n",
              "      <td>NaN</td>\n",
              "      <td>PMG12172</td>\n",
              "      <td>0</td>\n",
              "      <td>is not the new @AmericanAir is more like the n...</td>\n",
              "      <td>USA</td>\n",
              "    </tr>\n",
              "    <tr>\n",
              "      <th>30252</th>\n",
              "      <td>neg-MG-12264</td>\n",
              "      <td>3</td>\n",
              "      <td>NaN</td>\n",
              "      <td>PMG12173</td>\n",
              "      <td>0</td>\n",
              "      <td>you're killing me from the inside</td>\n",
              "      <td>USA</td>\n",
              "    </tr>\n",
              "    <tr>\n",
              "      <th>30253</th>\n",
              "      <td>neg-MG-12265</td>\n",
              "      <td>3</td>\n",
              "      <td>NaN</td>\n",
              "      <td>PMG12174</td>\n",
              "      <td>0</td>\n",
              "      <td>just hung up on me again. Another waste of an ...</td>\n",
              "      <td>USA</td>\n",
              "    </tr>\n",
              "    <tr>\n",
              "      <th>30254</th>\n",
              "      <td>neg-MG-12266</td>\n",
              "      <td>3</td>\n",
              "      <td>NaN</td>\n",
              "      <td>PMG12175</td>\n",
              "      <td>0</td>\n",
              "      <td>and when will one of these agents be available...</td>\n",
              "      <td>USA</td>\n",
              "    </tr>\n",
              "    <tr>\n",
              "      <th>30255</th>\n",
              "      <td>neg-MG-12267</td>\n",
              "      <td>3</td>\n",
              "      <td>NaN</td>\n",
              "      <td>PMG12176</td>\n",
              "      <td>0</td>\n",
              "      <td>is there a better time to call? My flight is o...</td>\n",
              "      <td>USA</td>\n",
              "    </tr>\n",
              "  </tbody>\n",
              "</table>\n",
              "<p>30155 rows × 7 columns</p>\n",
              "</div>"
            ],
            "text/plain": [
              "                 tweet_id  ...  Country\n",
              "0      neu-GG-Tweet-11945  ...   Canada\n",
              "1      neu-GG-Tweet-11944  ...   Canada\n",
              "2      neu-GG-Tweet-11943  ...   Canada\n",
              "3      neu-GG-Tweet-11942  ...   Canada\n",
              "4      neu-GG-Tweet-11941  ...   Canada\n",
              "...                   ...  ...      ...\n",
              "30251        neg-MG-12263  ...      USA\n",
              "30252        neg-MG-12264  ...      USA\n",
              "30253        neg-MG-12265  ...      USA\n",
              "30254        neg-MG-12266  ...      USA\n",
              "30255        neg-MG-12267  ...      USA\n",
              "\n",
              "[30155 rows x 7 columns]"
            ]
          },
          "metadata": {
            "tags": []
          },
          "execution_count": 189
        }
      ]
    },
    {
      "cell_type": "markdown",
      "metadata": {
        "id": "MfUwtw4BREXs"
      },
      "source": [
        "#### clean Tweet-Source  and replace missing tweet-source as \"OTHERS\""
      ]
    },
    {
      "cell_type": "code",
      "metadata": {
        "id": "o7SfYB1lRDlK"
      },
      "source": [
        "tweets_df[\"Tweet_source\"].fillna(\"OTHERS\", inplace = True)  "
      ],
      "execution_count": 190,
      "outputs": []
    },
    {
      "cell_type": "code",
      "metadata": {
        "id": "o6stkAoGRpAp",
        "outputId": "f22fd8b4-e27d-4af0-caf7-1b424765795d",
        "colab": {
          "base_uri": "https://localhost:8080/",
          "height": 419
        }
      },
      "source": [
        "tweets_df"
      ],
      "execution_count": 191,
      "outputs": [
        {
          "output_type": "execute_result",
          "data": {
            "text/html": [
              "<div>\n",
              "<style scoped>\n",
              "    .dataframe tbody tr th:only-of-type {\n",
              "        vertical-align: middle;\n",
              "    }\n",
              "\n",
              "    .dataframe tbody tr th {\n",
              "        vertical-align: top;\n",
              "    }\n",
              "\n",
              "    .dataframe thead th {\n",
              "        text-align: right;\n",
              "    }\n",
              "</style>\n",
              "<table border=\"1\" class=\"dataframe\">\n",
              "  <thead>\n",
              "    <tr style=\"text-align: right;\">\n",
              "      <th></th>\n",
              "      <th>tweet_id</th>\n",
              "      <th>Tweet-Class_category-Code</th>\n",
              "      <th>Tweet_source</th>\n",
              "      <th>Tweeted-By</th>\n",
              "      <th>retweet_count</th>\n",
              "      <th>Tweet</th>\n",
              "      <th>Country</th>\n",
              "    </tr>\n",
              "  </thead>\n",
              "  <tbody>\n",
              "    <tr>\n",
              "      <th>0</th>\n",
              "      <td>neu-GG-Tweet-11945</td>\n",
              "      <td>99</td>\n",
              "      <td>OTHERS</td>\n",
              "      <td>P32013</td>\n",
              "      <td>0</td>\n",
              "      <td>Just landed. My ears hurt</td>\n",
              "      <td>Canada</td>\n",
              "    </tr>\n",
              "    <tr>\n",
              "      <th>1</th>\n",
              "      <td>neu-GG-Tweet-11944</td>\n",
              "      <td>99</td>\n",
              "      <td>OTHERS</td>\n",
              "      <td>P32012</td>\n",
              "      <td>0</td>\n",
              "      <td>ouch following the #ASOT400 in TweetDeck excee...</td>\n",
              "      <td>Canada</td>\n",
              "    </tr>\n",
              "    <tr>\n",
              "      <th>2</th>\n",
              "      <td>neu-GG-Tweet-11943</td>\n",
              "      <td>99</td>\n",
              "      <td>OTHERS</td>\n",
              "      <td>P32011</td>\n",
              "      <td>0</td>\n",
              "      <td>@Nessiebear i really wanna see it! but no one ...</td>\n",
              "      <td>Canada</td>\n",
              "    </tr>\n",
              "    <tr>\n",
              "      <th>3</th>\n",
              "      <td>neu-GG-Tweet-11942</td>\n",
              "      <td>99</td>\n",
              "      <td>OTHERS</td>\n",
              "      <td>P32010</td>\n",
              "      <td>0</td>\n",
              "      <td>@TessAaaaah Ahh, this is how you reply!! I had...</td>\n",
              "      <td>Canada</td>\n",
              "    </tr>\n",
              "    <tr>\n",
              "      <th>4</th>\n",
              "      <td>neu-GG-Tweet-11941</td>\n",
              "      <td>99</td>\n",
              "      <td>OTHERS</td>\n",
              "      <td>P32009</td>\n",
              "      <td>0</td>\n",
              "      <td>@chenez awwww. and i didn't get to be the hero...</td>\n",
              "      <td>Canada</td>\n",
              "    </tr>\n",
              "    <tr>\n",
              "      <th>...</th>\n",
              "      <td>...</td>\n",
              "      <td>...</td>\n",
              "      <td>...</td>\n",
              "      <td>...</td>\n",
              "      <td>...</td>\n",
              "      <td>...</td>\n",
              "      <td>...</td>\n",
              "    </tr>\n",
              "    <tr>\n",
              "      <th>30251</th>\n",
              "      <td>neg-MG-12263</td>\n",
              "      <td>3</td>\n",
              "      <td>OTHERS</td>\n",
              "      <td>PMG12172</td>\n",
              "      <td>0</td>\n",
              "      <td>is not the new @AmericanAir is more like the n...</td>\n",
              "      <td>USA</td>\n",
              "    </tr>\n",
              "    <tr>\n",
              "      <th>30252</th>\n",
              "      <td>neg-MG-12264</td>\n",
              "      <td>3</td>\n",
              "      <td>OTHERS</td>\n",
              "      <td>PMG12173</td>\n",
              "      <td>0</td>\n",
              "      <td>you're killing me from the inside</td>\n",
              "      <td>USA</td>\n",
              "    </tr>\n",
              "    <tr>\n",
              "      <th>30253</th>\n",
              "      <td>neg-MG-12265</td>\n",
              "      <td>3</td>\n",
              "      <td>OTHERS</td>\n",
              "      <td>PMG12174</td>\n",
              "      <td>0</td>\n",
              "      <td>just hung up on me again. Another waste of an ...</td>\n",
              "      <td>USA</td>\n",
              "    </tr>\n",
              "    <tr>\n",
              "      <th>30254</th>\n",
              "      <td>neg-MG-12266</td>\n",
              "      <td>3</td>\n",
              "      <td>OTHERS</td>\n",
              "      <td>PMG12175</td>\n",
              "      <td>0</td>\n",
              "      <td>and when will one of these agents be available...</td>\n",
              "      <td>USA</td>\n",
              "    </tr>\n",
              "    <tr>\n",
              "      <th>30255</th>\n",
              "      <td>neg-MG-12267</td>\n",
              "      <td>3</td>\n",
              "      <td>OTHERS</td>\n",
              "      <td>PMG12176</td>\n",
              "      <td>0</td>\n",
              "      <td>is there a better time to call? My flight is o...</td>\n",
              "      <td>USA</td>\n",
              "    </tr>\n",
              "  </tbody>\n",
              "</table>\n",
              "<p>30155 rows × 7 columns</p>\n",
              "</div>"
            ],
            "text/plain": [
              "                 tweet_id  ...  Country\n",
              "0      neu-GG-Tweet-11945  ...   Canada\n",
              "1      neu-GG-Tweet-11944  ...   Canada\n",
              "2      neu-GG-Tweet-11943  ...   Canada\n",
              "3      neu-GG-Tweet-11942  ...   Canada\n",
              "4      neu-GG-Tweet-11941  ...   Canada\n",
              "...                   ...  ...      ...\n",
              "30251        neg-MG-12263  ...      USA\n",
              "30252        neg-MG-12264  ...      USA\n",
              "30253        neg-MG-12265  ...      USA\n",
              "30254        neg-MG-12266  ...      USA\n",
              "30255        neg-MG-12267  ...      USA\n",
              "\n",
              "[30155 rows x 7 columns]"
            ]
          },
          "metadata": {
            "tags": []
          },
          "execution_count": 191
        }
      ]
    },
    {
      "cell_type": "markdown",
      "metadata": {
        "id": "DgFREyNg5mKy"
      },
      "source": [
        "\n",
        "#### Tweet-Source - distribution - pie chart\n",
        "#### Class distribution - also chart\n",
        "#### Convert class  to numeric as - {'neu' : 2, 'pos' : 0, 'neg' : 1}\n",
        "#### Explore Negative tweet and its catergory ( column - Tweet-Class_category-Code)\n",
        "#### Country wise positive , Negative and Neutral\n",
        "#### "
      ]
    },
    {
      "cell_type": "code",
      "metadata": {
        "id": "9l12yFKw5mKy"
      },
      "source": [
        ""
      ],
      "execution_count": 191,
      "outputs": []
    }
  ]
}